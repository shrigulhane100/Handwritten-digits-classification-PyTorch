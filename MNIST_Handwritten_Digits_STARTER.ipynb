{
  "cells": [
    {
      "cell_type": "markdown",
      "metadata": {
        "id": "RZRLvX1J3pOF"
      },
      "source": [
        "# Introduction\n",
        "\n",
        "In this project, you will build a neural network of your own design to evaluate the MNIST dataset.\n",
        "\n",
        "Some of the benchmark results on MNIST include can be found [on Yann LeCun's page](http://yann.lecun.com/exdb/mnist/) and include:\n",
        "\n",
        "88% [Lecun et al., 1998](http://yann.lecun.com/exdb/publis/pdf/lecun-98.pdf)\n",
        "95.3% [Lecun et al., 1998](http://yann.lecun.com/exdb/publis/pdf/lecun-98.pdf)\n",
        "99.65% [Ciresan et al., 2011](http://people.idsia.ch/~juergen/ijcai2011.pdf)\n",
        "\n",
        "MNIST is a great dataset for sanity checking your models, since the accuracy levels achieved by large convolutional neural networks and small linear models are both quite high. This makes it important to be familiar with the data.\n",
        "\n",
        "## Imports"
      ]
    },
    {
      "cell_type": "code",
      "execution_count": 10,
      "metadata": {
        "id": "exLUYRQP3pOI"
      },
      "outputs": [],
      "source": [
        "## This cell contains the essential imports you will need – DO NOT CHANGE THE CONTENTS! ##\n",
        "import torch\n",
        "import torch.nn as nn\n",
        "import torch.nn.functional as F\n",
        "import torch.optim as optim\n",
        "import torchvision\n",
        "import torchvision.transforms as transforms\n",
        "import matplotlib.pyplot as plt\n",
        "import numpy as np"
      ]
    },
    {
      "cell_type": "markdown",
      "metadata": {
        "id": "5grStQwR3pOJ"
      },
      "source": [
        "## Load the Dataset\n",
        "\n",
        "Specify your transforms as a list if you intend to .\n",
        "The transforms module is already loaded as `transforms`.\n",
        "\n",
        "MNIST is fortunately included in the torchvision module.\n",
        "Then, you can create your dataset using the `MNIST` object from `torchvision.datasets` ([the documentation is available here](https://pytorch.org/vision/stable/datasets.html#mnist)).\n",
        "Make sure to specify `download=True`!\n",
        "\n",
        "Once your dataset is created, you'll also need to define a `DataLoader` from the `torch.utils.data` module for both the train and the test set."
      ]
    },
    {
      "cell_type": "code",
      "execution_count": 11,
      "metadata": {
        "colab": {
          "base_uri": "https://localhost:8080/"
        },
        "id": "vDeRRu593pOJ",
        "outputId": "16961fcf-fc28-4da3-d0ed-f1dea7a247b0"
      },
      "outputs": [
        {
          "output_type": "stream",
          "name": "stdout",
          "text": [
            "Training dataset size: 50000\n",
            "Validation dataset size: 10000\n",
            "Testing dataset size: 10000\n"
          ]
        }
      ],
      "source": [
        "# Define transforms\n",
        "## YOUR CODE HERE ##\n",
        "\n",
        "\n",
        "\n",
        "import torchvision.datasets as datasets\n",
        "import torchvision.transforms as transforms\n",
        "\n",
        "# Define the transformations to apply to the data\n",
        "transform = transforms.Compose([\n",
        "    transforms.ToTensor(), # Convert image to tensor\n",
        "    transforms.Normalize((0.1307,), (0.3081,)) # Normalize the image pixel values\n",
        "])\n",
        "\n",
        "# Load the MNIST dataset\n",
        "train_dataset = datasets.MNIST(root='./data', train=True, transform=transform, download=True)\n",
        "test_dataset = datasets.MNIST(root='./data', train=False, transform=transform)\n",
        "\n",
        "# Split the training dataset into training and validation sets\n",
        "train_dataset, val_dataset = torch.utils.data.random_split(train_dataset, [50000, 10000])\n",
        "\n",
        "# Create data loaders for the training, validation, and testing datasets\n",
        "train_loader = torch.utils.data.DataLoader(train_dataset, batch_size=64, shuffle=True)\n",
        "val_loader = torch.utils.data.DataLoader(val_dataset, batch_size=64, shuffle=False)\n",
        "test_loader = torch.utils.data.DataLoader(test_dataset, batch_size=64, shuffle=False)\n",
        "\n",
        "\n",
        "print(f'Training dataset size: {len(train_dataset)}')\n",
        "print(f'Validation dataset size: {len(val_dataset)}')\n",
        "print(f'Testing dataset size: {len(test_dataset)}')"
      ]
    },
    {
      "cell_type": "markdown",
      "metadata": {
        "id": "X4KWNJ383pOK"
      },
      "source": [
        "## Justify your preprocessing\n",
        "\n",
        "In your own words, why did you choose the transforms you chose? If you didn't use any preprocessing steps, why not?"
      ]
    },
    {
      "cell_type": "markdown",
      "metadata": {
        "id": "FoCLeNnW3pOL"
      },
      "source": [
        "I have used the following transforms:\n",
        "1. ToTensor():\n",
        "    - converts the image into numbers, that are understandable by the system.\n",
        "    - It separates the image into three color channels (separate images): red, green & blue.\n",
        "    - Then it converts the pixels of each image to the brightness of their color between 0 and 255.\n",
        "    - These values are then scaled down to a range between 0 and 1. The image is now a Torch Tensor.\n",
        "\n",
        "2. Normalize():\n",
        "    - Normalizes the tensor with a mean and standard deviation (0.5 and 0.5) in our case"
      ]
    },
    {
      "cell_type": "markdown",
      "metadata": {
        "id": "gKWhwJaZ3pOL"
      },
      "source": [
        "## Explore the Dataset\n",
        "Using matplotlib, numpy, and torch, explore the dimensions of your data.\n",
        "\n",
        "You can view images using the `show5` function defined below – it takes a data loader as an argument.\n",
        "Remember that normalized images will look really weird to you! You may want to try changing your transforms to view images.\n",
        "Typically using no transforms other than `toTensor()` works well for viewing – but not as well for training your network.\n",
        "If `show5` doesn't work, go back and check your code for creating your data loaders and your training/test sets."
      ]
    },
    {
      "cell_type": "code",
      "execution_count": 12,
      "metadata": {
        "id": "jr9LGKOz3pOL"
      },
      "outputs": [],
      "source": [
        "## This cell contains a function for showing 5 images from a dataloader – DO NOT CHANGE THE CONTENTS! ##\n",
        "def show5(img_loader):\n",
        "    dataiter = iter(img_loader)\n",
        "\n",
        "    batch = next(dataiter)\n",
        "    labels = batch[1][0:5]\n",
        "    images = batch[0][0:5]\n",
        "    for i in range(5):\n",
        "        print(int(labels[i].detach()))\n",
        "\n",
        "        image = images[i].numpy()\n",
        "        plt.imshow(image.T.squeeze().T)\n",
        "        plt.show()"
      ]
    },
    {
      "cell_type": "code",
      "execution_count": 13,
      "metadata": {
        "colab": {
          "base_uri": "https://localhost:8080/",
          "height": 1000
        },
        "id": "IuIfesey3pON",
        "outputId": "4e3a486d-d37c-4ed7-88e6-66e85d1016f9"
      },
      "outputs": [
        {
          "output_type": "stream",
          "name": "stdout",
          "text": [
            "8\n"
          ]
        },
        {
          "output_type": "display_data",
          "data": {
            "text/plain": [
              "<Figure size 640x480 with 1 Axes>"
            ],
            "image/png": "[encoded data removed]"
          },
          "metadata": {}
        },
        {
          "output_type": "stream",
          "name": "stdout",
          "text": [
            "2\n"
          ]
        },
        {
          "output_type": "display_data",
          "data": {
            "text/plain": [
              "<Figure size 640x480 with 1 Axes>"
            ],
            "image/png": "[encoded data removed]"
          },
          "metadata": {}
        },
        {
          "output_type": "stream",
          "name": "stdout",
          "text": [
            "1\n"
          ]
        },
        {
          "output_type": "display_data",
          "data": {
            "text/plain": [
              "<Figure size 640x480 with 1 Axes>"
            ],
            "image/png": "[encoded data removed]"
          },
          "metadata": {}
        },
        {
          "output_type": "stream",
          "name": "stdout",
          "text": [
            "0\n"
          ]
        },
        {
          "output_type": "display_data",
          "data": {
            "text/plain": [
              "<Figure size 640x480 with 1 Axes>"
            ],
            "image/png": "[encoded data removed]"
          },
          "metadata": {}
        },
        {
          "output_type": "stream",
          "name": "stdout",
          "text": [
            "8\n"
          ]
        },
        {
          "output_type": "display_data",
          "data": {
            "text/plain": [
              "<Figure size 640x480 with 1 Axes>"
            ],
            "image/png": "[encoded data removed]"
          },
          "metadata": {}
        }
      ],
      "source": [
        "# Explore data\n",
        "## YOUR CODE HERE ##\n",
        "show5(train_loader)"
      ]
    },
    {
      "cell_type": "markdown",
      "metadata": {
        "id": "FxO9DDef3pOO"
      },
      "source": [
        "## Build your Neural Network\n",
        "Using the layers in `torch.nn` (which has been imported as `nn`) and the `torch.nn.functional` module (imported as `F`), construct a neural network based on the parameters of the dataset.\n",
        "Use any architecture you like.\n",
        "\n",
        "*Note*: If you did not flatten your tensors in your transforms or as part of your preprocessing and you are using only `Linear` layers, make sure to use the `Flatten` layer in your network!"
      ]
    },
    {
      "cell_type": "code",
      "source": [
        "# Define the class for your neural network\n",
        "class Net(nn.Module):\n",
        "    def __init__(self):\n",
        "        super().__init__()\n",
        "        self.activation = F.relu\n",
        "        self.fc1 = nn.Linear(784, 120)\n",
        "        self.fc2 = nn.Linear(120, 84)\n",
        "        self.fc3 = nn.Linear(84, 10)\n",
        "\n",
        "    def forward(self, x):\n",
        "        x = torch.flatten(x, 1) # flatten all dimensions except batch\n",
        "        x = self.activation(self.fc1(x))\n",
        "        x = self.activation(self.fc2(x))\n",
        "        x = self.fc3(x)\n",
        "        return x"
      ],
      "metadata": {
        "id": "huEfztIv35GO"
      },
      "execution_count": 14,
      "outputs": []
    },
    {
      "cell_type": "code",
      "execution_count": 15,
      "metadata": {
        "colab": {
          "base_uri": "https://localhost:8080/"
        },
        "id": "v3DGYRyF3pOQ",
        "outputId": "f39fb865-8abe-48db-a6d4-20d39ec42c06"
      },
      "outputs": [
        {
          "output_type": "stream",
          "name": "stdout",
          "text": [
            "cpu\n"
          ]
        }
      ],
      "source": [
        "## YOUR CODE HERE ##\n",
        "device = torch.device('cuda' if torch.cuda.is_available() else 'cpu')\n",
        "print(device)"
      ]
    },
    {
      "cell_type": "markdown",
      "metadata": {
        "id": "-va7B42y3pOQ"
      },
      "source": [
        "Specify a loss function and an optimizer, and instantiate the model.\n",
        "\n",
        "If you use a less common loss function, please note why you chose that loss function in a comment."
      ]
    },
    {
      "cell_type": "markdown",
      "source": [
        "  The transforms chosen for the MNIST dataset are ToTensor() and Normalize(). The ToTensor() transform converts the PIL image or NumPy array to a PyTorch tensor with values ranging from 0 to 1. The Normalize() transform normalizes the tensor image with mean and standard deviation. In this case, the mean and standard deviation values of 0.1307 and 0.3081 are used, which are the global mean and standard deviation of the MNIST dataset.\n",
        "\n",
        "  These transforms are important preprocessing steps because they help to standardize the input data, making it easier for the neural network to learn from the data. Normalizing the data can also help to improve the training speed and performance of the neural network."
      ],
      "metadata": {
        "id": "nvi7dNPE_Vi7"
      }
    },
    {
      "cell_type": "code",
      "execution_count": 16,
      "metadata": {
        "id": "EbEl1taQ3pOR"
      },
      "outputs": [],
      "source": [
        "## YOUR CODE HERE ##\n",
        "criterion = nn.CrossEntropyLoss()\n",
        "cnn_model = Net()\n",
        "optimizer = optim.SGD(cnn_model.parameters(), lr=0.003, momentum=0.9)\n",
        "\n",
        "# We have used LogSoftmax activation as the last layer (technically, it's the logarithm of a Softmax function) and CrossEntropyLoss()\n",
        "# as it is a classification problem."
      ]
    },
    {
      "cell_type": "markdown",
      "metadata": {
        "id": "7RBwGsqg3pOS"
      },
      "source": [
        "## Running your Neural Network\n",
        "Use whatever method you like to train your neural network, and ensure you record the average loss at each epoch.\n",
        "Don't forget to use `torch.device()` and the `.to()` method for both your model and your data if you are using GPU!\n",
        "\n",
        "If you want to print your loss **during** each epoch, you can use the `enumerate` function and print the loss after a set number of batches. 250 batches works well for most people!"
      ]
    },
    {
      "cell_type": "code",
      "execution_count": 17,
      "metadata": {
        "id": "GqUY2bHO3pOS"
      },
      "outputs": [],
      "source": [
        "# Define the training function\n",
        "running_losses = []\n",
        "epoch_loss = []\n",
        "def train(model, device, train_loader, optimizer, epoch):\n",
        "    running_loss = 0\n",
        "    # Set the model to \"train\".\n",
        "    model.train()\n",
        "    for batch_idx, (data, target) in enumerate(train_loader):\n",
        "        # Move the data to GPU/CPU device accordingly.\n",
        "#         data, target = data.to(device), target.to(device)\n",
        "        # flush out the existing gradients.\n",
        "        optimizer.zero_grad()\n",
        "        # Calculate the outputs of the model\n",
        "        output = model(data)\n",
        "        # Compute the loss.\n",
        "        loss = criterion(output, target)\n",
        "        # Compute the gradients.\n",
        "        loss.backward()\n",
        "        # Update the weights/biases variables.\n",
        "        optimizer.step()\n",
        "        # Add the loss to the running_loss.\n",
        "        running_loss += loss.item()\n",
        "\n",
        "        if batch_idx % 100 == 0:\n",
        "            print('Train Epoch: {} [{}/{} ({:.0f}%)]\\tLoss: {:.6f}'.format(\n",
        "                epoch, batch_idx * len(data), len(train_loader.dataset),\n",
        "                100. * batch_idx / len(train_loader), loss.item()))\n",
        "        running_losses.append(loss.item())\n",
        "    else:\n",
        "        epoch_loss.append(running_loss / len(train_loader))\n",
        "\n",
        "\n",
        "# Define the testing function\n",
        "test_losses = []\n",
        "val_losses = []\n",
        "def test(model, device, test_loader, validation=False):\n",
        "    # Set the model to \"eval\" mode.\n",
        "    model.eval()\n",
        "    test_loss = 0\n",
        "    correct = 0\n",
        "    # Remove the gradient calculation part.\n",
        "    with torch.no_grad():\n",
        "        for data, target in test_loader:\n",
        "#             data, target = data.to(device), target.to(device)\n",
        "            output = model(data)\n",
        "            # compute the test loss.\n",
        "            test_loss += nn.functional.nll_loss(output, target, reduction='sum').item()\n",
        "            # Get the maximum arguments of the outputs.\n",
        "            pred = output.argmax(dim=1, keepdim=True)\n",
        "            # Check the total number of correct predictions made by the model.\n",
        "            correct += pred.eq(target.view_as(pred)).sum().item()\n",
        "\n",
        "    test_loss /= len(test_loader.dataset)\n",
        "    test_losses.append(test_loss)\n",
        "    if validation:\n",
        "        val_losses.append(test_loss)\n",
        "    accuracy = 100. * correct / len(test_loader.dataset)\n",
        "    print('Test set: Average loss: {:.4f}, Accuracy: {}/{} ({:.0f}%)'.format(\n",
        "        test_loss, correct, len(test_loader.dataset), accuracy))\n",
        "    return test_loss, accuracy"
      ]
    },
    {
      "cell_type": "code",
      "execution_count": 18,
      "metadata": {
        "colab": {
          "base_uri": "https://localhost:8080/"
        },
        "id": "W1yPd-UG3pOS",
        "outputId": "e5ecf47d-06c8-4c2d-c628-6a6d1547f2fb"
      },
      "outputs": [
        {
          "output_type": "stream",
          "name": "stdout",
          "text": [
            "Train Epoch: 1 [0/50000 (0%)]\tLoss: 2.308327\n",
            "Train Epoch: 1 [6400/50000 (13%)]\tLoss: 1.000924\n",
            "Train Epoch: 1 [12800/50000 (26%)]\tLoss: 0.545162\n",
            "Train Epoch: 1 [19200/50000 (38%)]\tLoss: 0.398695\n",
            "Train Epoch: 1 [25600/50000 (51%)]\tLoss: 0.238678\n",
            "Train Epoch: 1 [32000/50000 (64%)]\tLoss: 0.194653\n",
            "Train Epoch: 1 [38400/50000 (77%)]\tLoss: 0.200039\n",
            "Train Epoch: 1 [44800/50000 (90%)]\tLoss: 0.283506\n",
            "Test set: Average loss: -7.9266, Accuracy: 9213/10000 (92%)\n",
            "Train Epoch: 2 [0/50000 (0%)]\tLoss: 0.408807\n",
            "Train Epoch: 2 [6400/50000 (13%)]\tLoss: 0.167812\n",
            "Train Epoch: 2 [12800/50000 (26%)]\tLoss: 0.192154\n",
            "Train Epoch: 2 [19200/50000 (38%)]\tLoss: 0.243110\n",
            "Train Epoch: 2 [25600/50000 (51%)]\tLoss: 0.248410\n",
            "Train Epoch: 2 [32000/50000 (64%)]\tLoss: 0.122496\n",
            "Train Epoch: 2 [38400/50000 (77%)]\tLoss: 0.193415\n",
            "Train Epoch: 2 [44800/50000 (90%)]\tLoss: 0.282898\n",
            "Test set: Average loss: -8.6127, Accuracy: 9444/10000 (94%)\n",
            "Train Epoch: 3 [0/50000 (0%)]\tLoss: 0.346217\n",
            "Train Epoch: 3 [6400/50000 (13%)]\tLoss: 0.094614\n",
            "Train Epoch: 3 [12800/50000 (26%)]\tLoss: 0.263254\n",
            "Train Epoch: 3 [19200/50000 (38%)]\tLoss: 0.136782\n",
            "Train Epoch: 3 [25600/50000 (51%)]\tLoss: 0.173729\n",
            "Train Epoch: 3 [32000/50000 (64%)]\tLoss: 0.137237\n",
            "Train Epoch: 3 [38400/50000 (77%)]\tLoss: 0.131375\n",
            "Train Epoch: 3 [44800/50000 (90%)]\tLoss: 0.110383\n",
            "Test set: Average loss: -9.2224, Accuracy: 9562/10000 (96%)\n",
            "Train Epoch: 4 [0/50000 (0%)]\tLoss: 0.097271\n",
            "Train Epoch: 4 [6400/50000 (13%)]\tLoss: 0.156030\n",
            "Train Epoch: 4 [12800/50000 (26%)]\tLoss: 0.101385\n",
            "Train Epoch: 4 [19200/50000 (38%)]\tLoss: 0.098071\n",
            "Train Epoch: 4 [25600/50000 (51%)]\tLoss: 0.116940\n",
            "Train Epoch: 4 [32000/50000 (64%)]\tLoss: 0.061533\n",
            "Train Epoch: 4 [38400/50000 (77%)]\tLoss: 0.102903\n",
            "Train Epoch: 4 [44800/50000 (90%)]\tLoss: 0.106818\n",
            "Test set: Average loss: -9.8710, Accuracy: 9605/10000 (96%)\n",
            "Train Epoch: 5 [0/50000 (0%)]\tLoss: 0.109632\n",
            "Train Epoch: 5 [6400/50000 (13%)]\tLoss: 0.096432\n",
            "Train Epoch: 5 [12800/50000 (26%)]\tLoss: 0.133315\n",
            "Train Epoch: 5 [19200/50000 (38%)]\tLoss: 0.159336\n",
            "Train Epoch: 5 [25600/50000 (51%)]\tLoss: 0.051171\n",
            "Train Epoch: 5 [32000/50000 (64%)]\tLoss: 0.033773\n",
            "Train Epoch: 5 [38400/50000 (77%)]\tLoss: 0.102186\n",
            "Train Epoch: 5 [44800/50000 (90%)]\tLoss: 0.169806\n",
            "Test set: Average loss: -10.3922, Accuracy: 9646/10000 (96%)\n",
            "Train Epoch: 6 [0/50000 (0%)]\tLoss: 0.150636\n",
            "Train Epoch: 6 [6400/50000 (13%)]\tLoss: 0.162198\n",
            "Train Epoch: 6 [12800/50000 (26%)]\tLoss: 0.048216\n",
            "Train Epoch: 6 [19200/50000 (38%)]\tLoss: 0.080659\n",
            "Train Epoch: 6 [25600/50000 (51%)]\tLoss: 0.063214\n",
            "Train Epoch: 6 [32000/50000 (64%)]\tLoss: 0.165262\n",
            "Train Epoch: 6 [38400/50000 (77%)]\tLoss: 0.072866\n",
            "Train Epoch: 6 [44800/50000 (90%)]\tLoss: 0.064580\n",
            "Test set: Average loss: -10.8191, Accuracy: 9669/10000 (97%)\n",
            "Train Epoch: 7 [0/50000 (0%)]\tLoss: 0.167338\n",
            "Train Epoch: 7 [6400/50000 (13%)]\tLoss: 0.141456\n",
            "Train Epoch: 7 [12800/50000 (26%)]\tLoss: 0.034541\n",
            "Train Epoch: 7 [19200/50000 (38%)]\tLoss: 0.102864\n",
            "Train Epoch: 7 [25600/50000 (51%)]\tLoss: 0.033082\n",
            "Train Epoch: 7 [32000/50000 (64%)]\tLoss: 0.009224\n",
            "Train Epoch: 7 [38400/50000 (77%)]\tLoss: 0.097828\n",
            "Train Epoch: 7 [44800/50000 (90%)]\tLoss: 0.018254\n",
            "Test set: Average loss: -11.3671, Accuracy: 9687/10000 (97%)\n",
            "Train Epoch: 8 [0/50000 (0%)]\tLoss: 0.042982\n",
            "Train Epoch: 8 [6400/50000 (13%)]\tLoss: 0.044660\n",
            "Train Epoch: 8 [12800/50000 (26%)]\tLoss: 0.122558\n",
            "Train Epoch: 8 [19200/50000 (38%)]\tLoss: 0.032303\n",
            "Train Epoch: 8 [25600/50000 (51%)]\tLoss: 0.025457\n",
            "Train Epoch: 8 [32000/50000 (64%)]\tLoss: 0.040676\n",
            "Train Epoch: 8 [38400/50000 (77%)]\tLoss: 0.176835\n",
            "Train Epoch: 8 [44800/50000 (90%)]\tLoss: 0.122739\n",
            "Test set: Average loss: -12.0491, Accuracy: 9690/10000 (97%)\n",
            "Train Epoch: 9 [0/50000 (0%)]\tLoss: 0.081232\n",
            "Train Epoch: 9 [6400/50000 (13%)]\tLoss: 0.022312\n",
            "Train Epoch: 9 [12800/50000 (26%)]\tLoss: 0.045533\n",
            "Train Epoch: 9 [19200/50000 (38%)]\tLoss: 0.063796\n",
            "Train Epoch: 9 [25600/50000 (51%)]\tLoss: 0.032317\n",
            "Train Epoch: 9 [32000/50000 (64%)]\tLoss: 0.016634\n",
            "Train Epoch: 9 [38400/50000 (77%)]\tLoss: 0.042155\n",
            "Train Epoch: 9 [44800/50000 (90%)]\tLoss: 0.020299\n",
            "Test set: Average loss: -12.3500, Accuracy: 9716/10000 (97%)\n",
            "Train Epoch: 10 [0/50000 (0%)]\tLoss: 0.064284\n",
            "Train Epoch: 10 [6400/50000 (13%)]\tLoss: 0.038743\n",
            "Train Epoch: 10 [12800/50000 (26%)]\tLoss: 0.027485\n",
            "Train Epoch: 10 [19200/50000 (38%)]\tLoss: 0.028071\n",
            "Train Epoch: 10 [25600/50000 (51%)]\tLoss: 0.046979\n",
            "Train Epoch: 10 [32000/50000 (64%)]\tLoss: 0.103425\n",
            "Train Epoch: 10 [38400/50000 (77%)]\tLoss: 0.008507\n",
            "Train Epoch: 10 [44800/50000 (90%)]\tLoss: 0.058193\n",
            "Test set: Average loss: -12.7658, Accuracy: 9725/10000 (97%)\n"
          ]
        }
      ],
      "source": [
        "# Training the CNN model for 50 epochs.\n",
        "epochs = 10\n",
        "for epoch in range(1, epochs+1):\n",
        "    train(cnn_model, device, train_loader, optimizer, epoch)\n",
        "    test(cnn_model, device, val_loader, validation=True)"
      ]
    },
    {
      "cell_type": "markdown",
      "metadata": {
        "id": "4z1sGe3Y3pOT"
      },
      "source": [
        "Plot the training loss (and validation loss/accuracy, if recorded)."
      ]
    },
    {
      "cell_type": "code",
      "execution_count": 19,
      "metadata": {
        "colab": {
          "base_uri": "https://localhost:8080/",
          "height": 472
        },
        "id": "TpWdwf_J3pOT",
        "outputId": "0d914890-2ca5-4a6c-fd90-ac5aab477b07"
      },
      "outputs": [
        {
          "output_type": "display_data",
          "data": {
            "text/plain": [
              "<Figure size 640x480 with 1 Axes>"
            ],
            "image/png": "[encoded data removed]"
          },
          "metadata": {}
        }
      ],
      "source": [
        "## YOUR CODE HERE ##\n",
        "fig, ax = plt.subplots()\n",
        "ax.plot(epoch_loss, label='Training Loss')\n",
        "ax.plot(test_losses, label='Validation Loss')\n",
        "ax.set_xlabel('Epoch')\n",
        "ax.set_ylabel('Loss')\n",
        "ax.set_title('Training and Validation Loss')\n",
        "ax.legend()\n",
        "\n",
        "plt.show()"
      ]
    },
    {
      "cell_type": "markdown",
      "metadata": {
        "id": "z3nL9fWJ3pOV"
      },
      "source": [
        "## Testing your model\n",
        "Using the previously created `DataLoader` for the test set, compute the percentage of correct predictions using the highest probability prediction.\n",
        "\n",
        "If your accuracy is over 90%, great work, but see if you can push a bit further!\n",
        "If your accuracy is under 90%, you'll need to make improvements.\n",
        "Go back and check your model architecture, loss function, and optimizer to make sure they're appropriate for an image classification task."
      ]
    },
    {
      "cell_type": "code",
      "execution_count": 20,
      "metadata": {
        "colab": {
          "base_uri": "https://localhost:8080/"
        },
        "id": "RXwR5-XS3pOV",
        "outputId": "610c1d4b-8107-4470-ca51-6a7ca20fdc39"
      },
      "outputs": [
        {
          "output_type": "stream",
          "name": "stdout",
          "text": [
            "Test set: Average loss: -12.9971, Accuracy: 9735/10000 (97%)\n"
          ]
        },
        {
          "output_type": "execute_result",
          "data": {
            "text/plain": [
              "(-12.997133166503906, 97.35)"
            ]
          },
          "metadata": {},
          "execution_count": 20
        }
      ],
      "source": [
        "## YOUR CODE HERE ##\n",
        "test(cnn_model, device, test_loader)"
      ]
    },
    {
      "cell_type": "markdown",
      "metadata": {
        "id": "g--b2Ub23pOV"
      },
      "source": [
        "## Improving your model\n",
        "\n",
        "Once your model is done training, try tweaking your hyperparameters and training again below to improve your accuracy on the test set!"
      ]
    },
    {
      "cell_type": "code",
      "execution_count": 21,
      "metadata": {
        "id": "LaJRPxmI3pOV"
      },
      "outputs": [],
      "source": [
        "## YOUR CODE HERE ##\n",
        "# Define the neural network\n",
        "class Net(nn.Module):\n",
        "    def __init__(self):\n",
        "        super(Net, self).__init__()\n",
        "        self.conv1 = nn.Conv2d(1, 32, 3, padding=1)\n",
        "        self.conv2 = nn.Conv2d(32, 64, 3, padding=1)\n",
        "        self.fc1 = nn.Linear(64*7*7, 128)\n",
        "        self.fc2 = nn.Linear(128, 10)\n",
        "\n",
        "    def forward(self, x):\n",
        "        x = nn.functional.relu(self.conv1(x))\n",
        "        x = nn.functional.max_pool2d(x, 2)\n",
        "        x = nn.functional.relu(self.conv2(x))\n",
        "        x = nn.functional.max_pool2d(x, 2)\n",
        "        x = x.view(-1, 64*7*7)\n",
        "        x = nn.functional.relu(self.fc1(x))\n",
        "        x = nn.functional.dropout(x, training=self.training)\n",
        "        x = self.fc2(x)\n",
        "        return nn.functional.log_softmax(x, dim=1)"
      ]
    },
    {
      "cell_type": "code",
      "source": [
        "running_losses = []\n",
        "epoch_loss = []\n",
        "test_losses = []\n",
        "val_losses = []\n",
        "running_loss = 0\n",
        "test_loss = 0\n",
        "correct = 0\n"
      ],
      "metadata": {
        "id": "E36o1ZC64POr"
      },
      "execution_count": 22,
      "outputs": []
    },
    {
      "cell_type": "code",
      "source": [
        "# Training the CNN model for 50 epochs.\n",
        "epochs = 50\n",
        "for epoch in range(1, epochs+1):\n",
        "    train(cnn_model, device, train_loader, optimizer, epoch)\n",
        "    test(cnn_model, device, val_loader, validation=True)"
      ],
      "metadata": {
        "colab": {
          "base_uri": "https://localhost:8080/"
        },
        "id": "IgNjsaAF4AKx",
        "outputId": "785139d9-b083-453b-ddcc-dcfd718f6aaf"
      },
      "execution_count": 23,
      "outputs": [
        {
          "output_type": "stream",
          "name": "stdout",
          "text": [
            "Train Epoch: 1 [0/50000 (0%)]\tLoss: 0.061035\n",
            "Train Epoch: 1 [6400/50000 (13%)]\tLoss: 0.034923\n",
            "Train Epoch: 1 [12800/50000 (26%)]\tLoss: 0.018665\n",
            "Train Epoch: 1 [19200/50000 (38%)]\tLoss: 0.026163\n",
            "Train Epoch: 1 [25600/50000 (51%)]\tLoss: 0.023317\n",
            "Train Epoch: 1 [32000/50000 (64%)]\tLoss: 0.017264\n",
            "Train Epoch: 1 [38400/50000 (77%)]\tLoss: 0.007516\n",
            "Train Epoch: 1 [44800/50000 (90%)]\tLoss: 0.006514\n",
            "Test set: Average loss: -13.4163, Accuracy: 9722/10000 (97%)\n",
            "Train Epoch: 2 [0/50000 (0%)]\tLoss: 0.042978\n",
            "Train Epoch: 2 [6400/50000 (13%)]\tLoss: 0.040467\n",
            "Train Epoch: 2 [12800/50000 (26%)]\tLoss: 0.011130\n",
            "Train Epoch: 2 [19200/50000 (38%)]\tLoss: 0.010115\n",
            "Train Epoch: 2 [25600/50000 (51%)]\tLoss: 0.012924\n",
            "Train Epoch: 2 [32000/50000 (64%)]\tLoss: 0.006283\n",
            "Train Epoch: 2 [38400/50000 (77%)]\tLoss: 0.030792\n",
            "Train Epoch: 2 [44800/50000 (90%)]\tLoss: 0.059334\n",
            "Test set: Average loss: -13.5236, Accuracy: 9732/10000 (97%)\n",
            "Train Epoch: 3 [0/50000 (0%)]\tLoss: 0.063827\n",
            "Train Epoch: 3 [6400/50000 (13%)]\tLoss: 0.030470\n",
            "Train Epoch: 3 [12800/50000 (26%)]\tLoss: 0.022836\n",
            "Train Epoch: 3 [19200/50000 (38%)]\tLoss: 0.012711\n",
            "Train Epoch: 3 [25600/50000 (51%)]\tLoss: 0.022287\n",
            "Train Epoch: 3 [32000/50000 (64%)]\tLoss: 0.062533\n",
            "Train Epoch: 3 [38400/50000 (77%)]\tLoss: 0.014796\n",
            "Train Epoch: 3 [44800/50000 (90%)]\tLoss: 0.044526\n",
            "Test set: Average loss: -14.3118, Accuracy: 9702/10000 (97%)\n",
            "Train Epoch: 4 [0/50000 (0%)]\tLoss: 0.013909\n",
            "Train Epoch: 4 [6400/50000 (13%)]\tLoss: 0.027274\n",
            "Train Epoch: 4 [12800/50000 (26%)]\tLoss: 0.048113\n",
            "Train Epoch: 4 [19200/50000 (38%)]\tLoss: 0.038025\n",
            "Train Epoch: 4 [25600/50000 (51%)]\tLoss: 0.100823\n",
            "Train Epoch: 4 [32000/50000 (64%)]\tLoss: 0.047813\n",
            "Train Epoch: 4 [38400/50000 (77%)]\tLoss: 0.058617\n",
            "Train Epoch: 4 [44800/50000 (90%)]\tLoss: 0.008183\n",
            "Test set: Average loss: -14.5586, Accuracy: 9730/10000 (97%)\n",
            "Train Epoch: 5 [0/50000 (0%)]\tLoss: 0.010971\n",
            "Train Epoch: 5 [6400/50000 (13%)]\tLoss: 0.161691\n",
            "Train Epoch: 5 [12800/50000 (26%)]\tLoss: 0.006927\n",
            "Train Epoch: 5 [19200/50000 (38%)]\tLoss: 0.009180\n",
            "Train Epoch: 5 [25600/50000 (51%)]\tLoss: 0.010983\n",
            "Train Epoch: 5 [32000/50000 (64%)]\tLoss: 0.012209\n",
            "Train Epoch: 5 [38400/50000 (77%)]\tLoss: 0.009339\n",
            "Train Epoch: 5 [44800/50000 (90%)]\tLoss: 0.012398\n",
            "Test set: Average loss: -15.2216, Accuracy: 9737/10000 (97%)\n",
            "Train Epoch: 6 [0/50000 (0%)]\tLoss: 0.013270\n",
            "Train Epoch: 6 [6400/50000 (13%)]\tLoss: 0.005133\n",
            "Train Epoch: 6 [12800/50000 (26%)]\tLoss: 0.013407\n",
            "Train Epoch: 6 [19200/50000 (38%)]\tLoss: 0.006196\n",
            "Train Epoch: 6 [25600/50000 (51%)]\tLoss: 0.008469\n",
            "Train Epoch: 6 [32000/50000 (64%)]\tLoss: 0.005694\n",
            "Train Epoch: 6 [38400/50000 (77%)]\tLoss: 0.006109\n",
            "Train Epoch: 6 [44800/50000 (90%)]\tLoss: 0.099744\n",
            "Test set: Average loss: -15.6226, Accuracy: 9727/10000 (97%)\n",
            "Train Epoch: 7 [0/50000 (0%)]\tLoss: 0.009573\n",
            "Train Epoch: 7 [6400/50000 (13%)]\tLoss: 0.039816\n",
            "Train Epoch: 7 [12800/50000 (26%)]\tLoss: 0.010125\n",
            "Train Epoch: 7 [19200/50000 (38%)]\tLoss: 0.010271\n",
            "Train Epoch: 7 [25600/50000 (51%)]\tLoss: 0.013956\n",
            "Train Epoch: 7 [32000/50000 (64%)]\tLoss: 0.032374\n",
            "Train Epoch: 7 [38400/50000 (77%)]\tLoss: 0.013798\n",
            "Train Epoch: 7 [44800/50000 (90%)]\tLoss: 0.022768\n",
            "Test set: Average loss: -16.0126, Accuracy: 9732/10000 (97%)\n",
            "Train Epoch: 8 [0/50000 (0%)]\tLoss: 0.006228\n",
            "Train Epoch: 8 [6400/50000 (13%)]\tLoss: 0.003647\n",
            "Train Epoch: 8 [12800/50000 (26%)]\tLoss: 0.006451\n",
            "Train Epoch: 8 [19200/50000 (38%)]\tLoss: 0.022013\n",
            "Train Epoch: 8 [25600/50000 (51%)]\tLoss: 0.023647\n",
            "Train Epoch: 8 [32000/50000 (64%)]\tLoss: 0.016652\n",
            "Train Epoch: 8 [38400/50000 (77%)]\tLoss: 0.001356\n",
            "Train Epoch: 8 [44800/50000 (90%)]\tLoss: 0.022553\n",
            "Test set: Average loss: -16.6322, Accuracy: 9743/10000 (97%)\n",
            "Train Epoch: 9 [0/50000 (0%)]\tLoss: 0.004842\n",
            "Train Epoch: 9 [6400/50000 (13%)]\tLoss: 0.063244\n",
            "Train Epoch: 9 [12800/50000 (26%)]\tLoss: 0.008698\n",
            "Train Epoch: 9 [19200/50000 (38%)]\tLoss: 0.006897\n",
            "Train Epoch: 9 [25600/50000 (51%)]\tLoss: 0.005123\n",
            "Train Epoch: 9 [32000/50000 (64%)]\tLoss: 0.010130\n",
            "Train Epoch: 9 [38400/50000 (77%)]\tLoss: 0.003289\n",
            "Train Epoch: 9 [44800/50000 (90%)]\tLoss: 0.026727\n",
            "Test set: Average loss: -16.9529, Accuracy: 9723/10000 (97%)\n",
            "Train Epoch: 10 [0/50000 (0%)]\tLoss: 0.031043\n",
            "Train Epoch: 10 [6400/50000 (13%)]\tLoss: 0.003680\n",
            "Train Epoch: 10 [12800/50000 (26%)]\tLoss: 0.037331\n",
            "Train Epoch: 10 [19200/50000 (38%)]\tLoss: 0.012293\n",
            "Train Epoch: 10 [25600/50000 (51%)]\tLoss: 0.012340\n",
            "Train Epoch: 10 [32000/50000 (64%)]\tLoss: 0.002416\n",
            "Train Epoch: 10 [38400/50000 (77%)]\tLoss: 0.003636\n",
            "Train Epoch: 10 [44800/50000 (90%)]\tLoss: 0.003919\n",
            "Test set: Average loss: -17.4314, Accuracy: 9742/10000 (97%)\n",
            "Train Epoch: 11 [0/50000 (0%)]\tLoss: 0.006796\n",
            "Train Epoch: 11 [6400/50000 (13%)]\tLoss: 0.004167\n",
            "Train Epoch: 11 [12800/50000 (26%)]\tLoss: 0.042787\n",
            "Train Epoch: 11 [19200/50000 (38%)]\tLoss: 0.001298\n",
            "Train Epoch: 11 [25600/50000 (51%)]\tLoss: 0.009818\n",
            "Train Epoch: 11 [32000/50000 (64%)]\tLoss: 0.006298\n",
            "Train Epoch: 11 [38400/50000 (77%)]\tLoss: 0.001495\n",
            "Train Epoch: 11 [44800/50000 (90%)]\tLoss: 0.015773\n",
            "Test set: Average loss: -17.7566, Accuracy: 9734/10000 (97%)\n",
            "Train Epoch: 12 [0/50000 (0%)]\tLoss: 0.000783\n",
            "Train Epoch: 12 [6400/50000 (13%)]\tLoss: 0.007248\n",
            "Train Epoch: 12 [12800/50000 (26%)]\tLoss: 0.008527\n",
            "Train Epoch: 12 [19200/50000 (38%)]\tLoss: 0.004825\n",
            "Train Epoch: 12 [25600/50000 (51%)]\tLoss: 0.005049\n",
            "Train Epoch: 12 [32000/50000 (64%)]\tLoss: 0.014407\n",
            "Train Epoch: 12 [38400/50000 (77%)]\tLoss: 0.018904\n",
            "Train Epoch: 12 [44800/50000 (90%)]\tLoss: 0.001693\n",
            "Test set: Average loss: -18.2333, Accuracy: 9742/10000 (97%)\n",
            "Train Epoch: 13 [0/50000 (0%)]\tLoss: 0.002426\n",
            "Train Epoch: 13 [6400/50000 (13%)]\tLoss: 0.007268\n",
            "Train Epoch: 13 [12800/50000 (26%)]\tLoss: 0.007778\n",
            "Train Epoch: 13 [19200/50000 (38%)]\tLoss: 0.002719\n",
            "Train Epoch: 13 [25600/50000 (51%)]\tLoss: 0.005715\n",
            "Train Epoch: 13 [32000/50000 (64%)]\tLoss: 0.011330\n",
            "Train Epoch: 13 [38400/50000 (77%)]\tLoss: 0.002627\n",
            "Train Epoch: 13 [44800/50000 (90%)]\tLoss: 0.003021\n",
            "Test set: Average loss: -18.5037, Accuracy: 9750/10000 (98%)\n",
            "Train Epoch: 14 [0/50000 (0%)]\tLoss: 0.004313\n",
            "Train Epoch: 14 [6400/50000 (13%)]\tLoss: 0.009600\n",
            "Train Epoch: 14 [12800/50000 (26%)]\tLoss: 0.007109\n",
            "Train Epoch: 14 [19200/50000 (38%)]\tLoss: 0.006262\n",
            "Train Epoch: 14 [25600/50000 (51%)]\tLoss: 0.007233\n",
            "Train Epoch: 14 [32000/50000 (64%)]\tLoss: 0.002712\n",
            "Train Epoch: 14 [38400/50000 (77%)]\tLoss: 0.003269\n",
            "Train Epoch: 14 [44800/50000 (90%)]\tLoss: 0.003631\n",
            "Test set: Average loss: -18.8805, Accuracy: 9745/10000 (97%)\n",
            "Train Epoch: 15 [0/50000 (0%)]\tLoss: 0.004361\n",
            "Train Epoch: 15 [6400/50000 (13%)]\tLoss: 0.006034\n",
            "Train Epoch: 15 [12800/50000 (26%)]\tLoss: 0.005238\n",
            "Train Epoch: 15 [19200/50000 (38%)]\tLoss: 0.003022\n",
            "Train Epoch: 15 [25600/50000 (51%)]\tLoss: 0.009642\n",
            "Train Epoch: 15 [32000/50000 (64%)]\tLoss: 0.004620\n",
            "Train Epoch: 15 [38400/50000 (77%)]\tLoss: 0.007005\n",
            "Train Epoch: 15 [44800/50000 (90%)]\tLoss: 0.001027\n",
            "Test set: Average loss: -19.0745, Accuracy: 9747/10000 (97%)\n",
            "Train Epoch: 16 [0/50000 (0%)]\tLoss: 0.008135\n",
            "Train Epoch: 16 [6400/50000 (13%)]\tLoss: 0.003028\n",
            "Train Epoch: 16 [12800/50000 (26%)]\tLoss: 0.001482\n",
            "Train Epoch: 16 [19200/50000 (38%)]\tLoss: 0.008242\n",
            "Train Epoch: 16 [25600/50000 (51%)]\tLoss: 0.010193\n",
            "Train Epoch: 16 [32000/50000 (64%)]\tLoss: 0.003872\n",
            "Train Epoch: 16 [38400/50000 (77%)]\tLoss: 0.001819\n",
            "Train Epoch: 16 [44800/50000 (90%)]\tLoss: 0.001883\n",
            "Test set: Average loss: -19.4881, Accuracy: 9740/10000 (97%)\n",
            "Train Epoch: 17 [0/50000 (0%)]\tLoss: 0.006333\n",
            "Train Epoch: 17 [6400/50000 (13%)]\tLoss: 0.003072\n",
            "Train Epoch: 17 [12800/50000 (26%)]\tLoss: 0.002388\n",
            "Train Epoch: 17 [19200/50000 (38%)]\tLoss: 0.009879\n",
            "Train Epoch: 17 [25600/50000 (51%)]\tLoss: 0.011400\n",
            "Train Epoch: 17 [32000/50000 (64%)]\tLoss: 0.006888\n",
            "Train Epoch: 17 [38400/50000 (77%)]\tLoss: 0.017561\n",
            "Train Epoch: 17 [44800/50000 (90%)]\tLoss: 0.026383\n",
            "Test set: Average loss: -19.8406, Accuracy: 9748/10000 (97%)\n",
            "Train Epoch: 18 [0/50000 (0%)]\tLoss: 0.005153\n",
            "Train Epoch: 18 [6400/50000 (13%)]\tLoss: 0.000763\n",
            "Train Epoch: 18 [12800/50000 (26%)]\tLoss: 0.001960\n",
            "Train Epoch: 18 [19200/50000 (38%)]\tLoss: 0.001578\n",
            "Train Epoch: 18 [25600/50000 (51%)]\tLoss: 0.007999\n",
            "Train Epoch: 18 [32000/50000 (64%)]\tLoss: 0.002750\n",
            "Train Epoch: 18 [38400/50000 (77%)]\tLoss: 0.000946\n",
            "Train Epoch: 18 [44800/50000 (90%)]\tLoss: 0.003687\n",
            "Test set: Average loss: -20.1619, Accuracy: 9745/10000 (97%)\n",
            "Train Epoch: 19 [0/50000 (0%)]\tLoss: 0.005348\n",
            "Train Epoch: 19 [6400/50000 (13%)]\tLoss: 0.001338\n",
            "Train Epoch: 19 [12800/50000 (26%)]\tLoss: 0.003671\n",
            "Train Epoch: 19 [19200/50000 (38%)]\tLoss: 0.001392\n",
            "Train Epoch: 19 [25600/50000 (51%)]\tLoss: 0.000788\n",
            "Train Epoch: 19 [32000/50000 (64%)]\tLoss: 0.003186\n",
            "Train Epoch: 19 [38400/50000 (77%)]\tLoss: 0.003823\n",
            "Train Epoch: 19 [44800/50000 (90%)]\tLoss: 0.001399\n",
            "Test set: Average loss: -20.4582, Accuracy: 9740/10000 (97%)\n",
            "Train Epoch: 20 [0/50000 (0%)]\tLoss: 0.003872\n",
            "Train Epoch: 20 [6400/50000 (13%)]\tLoss: 0.004176\n",
            "Train Epoch: 20 [12800/50000 (26%)]\tLoss: 0.001884\n",
            "Train Epoch: 20 [19200/50000 (38%)]\tLoss: 0.005825\n",
            "Train Epoch: 20 [25600/50000 (51%)]\tLoss: 0.003378\n",
            "Train Epoch: 20 [32000/50000 (64%)]\tLoss: 0.002166\n",
            "Train Epoch: 20 [38400/50000 (77%)]\tLoss: 0.002104\n",
            "Train Epoch: 20 [44800/50000 (90%)]\tLoss: 0.003740\n",
            "Test set: Average loss: -20.6929, Accuracy: 9747/10000 (97%)\n",
            "Train Epoch: 21 [0/50000 (0%)]\tLoss: 0.003876\n",
            "Train Epoch: 21 [6400/50000 (13%)]\tLoss: 0.001429\n",
            "Train Epoch: 21 [12800/50000 (26%)]\tLoss: 0.005897\n",
            "Train Epoch: 21 [19200/50000 (38%)]\tLoss: 0.007815\n",
            "Train Epoch: 21 [25600/50000 (51%)]\tLoss: 0.017902\n",
            "Train Epoch: 21 [32000/50000 (64%)]\tLoss: 0.008690\n",
            "Train Epoch: 21 [38400/50000 (77%)]\tLoss: 0.000918\n",
            "Train Epoch: 21 [44800/50000 (90%)]\tLoss: 0.002351\n",
            "Test set: Average loss: -20.9753, Accuracy: 9741/10000 (97%)\n",
            "Train Epoch: 22 [0/50000 (0%)]\tLoss: 0.002473\n",
            "Train Epoch: 22 [6400/50000 (13%)]\tLoss: 0.006000\n",
            "Train Epoch: 22 [12800/50000 (26%)]\tLoss: 0.002342\n",
            "Train Epoch: 22 [19200/50000 (38%)]\tLoss: 0.002118\n",
            "Train Epoch: 22 [25600/50000 (51%)]\tLoss: 0.006282\n",
            "Train Epoch: 22 [32000/50000 (64%)]\tLoss: 0.003397\n",
            "Train Epoch: 22 [38400/50000 (77%)]\tLoss: 0.002631\n",
            "Train Epoch: 22 [44800/50000 (90%)]\tLoss: 0.012696\n",
            "Test set: Average loss: -21.2105, Accuracy: 9750/10000 (98%)\n",
            "Train Epoch: 23 [0/50000 (0%)]\tLoss: 0.002184\n",
            "Train Epoch: 23 [6400/50000 (13%)]\tLoss: 0.000721\n",
            "Train Epoch: 23 [12800/50000 (26%)]\tLoss: 0.003139\n",
            "Train Epoch: 23 [19200/50000 (38%)]\tLoss: 0.001568\n",
            "Train Epoch: 23 [25600/50000 (51%)]\tLoss: 0.001814\n",
            "Train Epoch: 23 [32000/50000 (64%)]\tLoss: 0.002110\n",
            "Train Epoch: 23 [38400/50000 (77%)]\tLoss: 0.003784\n",
            "Train Epoch: 23 [44800/50000 (90%)]\tLoss: 0.001551\n",
            "Test set: Average loss: -21.4030, Accuracy: 9744/10000 (97%)\n",
            "Train Epoch: 24 [0/50000 (0%)]\tLoss: 0.007620\n",
            "Train Epoch: 24 [6400/50000 (13%)]\tLoss: 0.002031\n",
            "Train Epoch: 24 [12800/50000 (26%)]\tLoss: 0.000861\n",
            "Train Epoch: 24 [19200/50000 (38%)]\tLoss: 0.001928\n",
            "Train Epoch: 24 [25600/50000 (51%)]\tLoss: 0.003530\n",
            "Train Epoch: 24 [32000/50000 (64%)]\tLoss: 0.001756\n",
            "Train Epoch: 24 [38400/50000 (77%)]\tLoss: 0.001361\n",
            "Train Epoch: 24 [44800/50000 (90%)]\tLoss: 0.002982\n",
            "Test set: Average loss: -21.6023, Accuracy: 9746/10000 (97%)\n",
            "Train Epoch: 25 [0/50000 (0%)]\tLoss: 0.003939\n",
            "Train Epoch: 25 [6400/50000 (13%)]\tLoss: 0.000701\n",
            "Train Epoch: 25 [12800/50000 (26%)]\tLoss: 0.000258\n",
            "Train Epoch: 25 [19200/50000 (38%)]\tLoss: 0.001650\n",
            "Train Epoch: 25 [25600/50000 (51%)]\tLoss: 0.002616\n",
            "Train Epoch: 25 [32000/50000 (64%)]\tLoss: 0.006041\n",
            "Train Epoch: 25 [38400/50000 (77%)]\tLoss: 0.001392\n",
            "Train Epoch: 25 [44800/50000 (90%)]\tLoss: 0.003552\n",
            "Test set: Average loss: -21.8262, Accuracy: 9750/10000 (98%)\n",
            "Train Epoch: 26 [0/50000 (0%)]\tLoss: 0.002437\n",
            "Train Epoch: 26 [6400/50000 (13%)]\tLoss: 0.000932\n",
            "Train Epoch: 26 [12800/50000 (26%)]\tLoss: 0.000578\n",
            "Train Epoch: 26 [19200/50000 (38%)]\tLoss: 0.000612\n",
            "Train Epoch: 26 [25600/50000 (51%)]\tLoss: 0.000717\n",
            "Train Epoch: 26 [32000/50000 (64%)]\tLoss: 0.001030\n",
            "Train Epoch: 26 [38400/50000 (77%)]\tLoss: 0.001810\n",
            "Train Epoch: 26 [44800/50000 (90%)]\tLoss: 0.002722\n",
            "Test set: Average loss: -22.0645, Accuracy: 9740/10000 (97%)\n",
            "Train Epoch: 27 [0/50000 (0%)]\tLoss: 0.001491\n",
            "Train Epoch: 27 [6400/50000 (13%)]\tLoss: 0.002884\n",
            "Train Epoch: 27 [12800/50000 (26%)]\tLoss: 0.002366\n",
            "Train Epoch: 27 [19200/50000 (38%)]\tLoss: 0.001497\n",
            "Train Epoch: 27 [25600/50000 (51%)]\tLoss: 0.000851\n",
            "Train Epoch: 27 [32000/50000 (64%)]\tLoss: 0.002113\n",
            "Train Epoch: 27 [38400/50000 (77%)]\tLoss: 0.001481\n",
            "Train Epoch: 27 [44800/50000 (90%)]\tLoss: 0.003099\n",
            "Test set: Average loss: -22.2709, Accuracy: 9746/10000 (97%)\n",
            "Train Epoch: 28 [0/50000 (0%)]\tLoss: 0.002353\n",
            "Train Epoch: 28 [6400/50000 (13%)]\tLoss: 0.002036\n",
            "Train Epoch: 28 [12800/50000 (26%)]\tLoss: 0.000924\n",
            "Train Epoch: 28 [19200/50000 (38%)]\tLoss: 0.001725\n",
            "Train Epoch: 28 [25600/50000 (51%)]\tLoss: 0.003231\n",
            "Train Epoch: 28 [32000/50000 (64%)]\tLoss: 0.001648\n",
            "Train Epoch: 28 [38400/50000 (77%)]\tLoss: 0.004260\n",
            "Train Epoch: 28 [44800/50000 (90%)]\tLoss: 0.003316\n",
            "Test set: Average loss: -22.5180, Accuracy: 9754/10000 (98%)\n",
            "Train Epoch: 29 [0/50000 (0%)]\tLoss: 0.001692\n",
            "Train Epoch: 29 [6400/50000 (13%)]\tLoss: 0.001161\n",
            "Train Epoch: 29 [12800/50000 (26%)]\tLoss: 0.001524\n",
            "Train Epoch: 29 [19200/50000 (38%)]\tLoss: 0.001193\n",
            "Train Epoch: 29 [25600/50000 (51%)]\tLoss: 0.005300\n",
            "Train Epoch: 29 [32000/50000 (64%)]\tLoss: 0.003173\n",
            "Train Epoch: 29 [38400/50000 (77%)]\tLoss: 0.000770\n",
            "Train Epoch: 29 [44800/50000 (90%)]\tLoss: 0.000626\n",
            "Test set: Average loss: -22.6917, Accuracy: 9745/10000 (97%)\n",
            "Train Epoch: 30 [0/50000 (0%)]\tLoss: 0.000479\n",
            "Train Epoch: 30 [6400/50000 (13%)]\tLoss: 0.001989\n",
            "Train Epoch: 30 [12800/50000 (26%)]\tLoss: 0.001335\n",
            "Train Epoch: 30 [19200/50000 (38%)]\tLoss: 0.001097\n",
            "Train Epoch: 30 [25600/50000 (51%)]\tLoss: 0.002206\n",
            "Train Epoch: 30 [32000/50000 (64%)]\tLoss: 0.001710\n",
            "Train Epoch: 30 [38400/50000 (77%)]\tLoss: 0.001410\n",
            "Train Epoch: 30 [44800/50000 (90%)]\tLoss: 0.000951\n",
            "Test set: Average loss: -22.8527, Accuracy: 9747/10000 (97%)\n",
            "Train Epoch: 31 [0/50000 (0%)]\tLoss: 0.001067\n",
            "Train Epoch: 31 [6400/50000 (13%)]\tLoss: 0.000777\n",
            "Train Epoch: 31 [12800/50000 (26%)]\tLoss: 0.002262\n",
            "Train Epoch: 31 [19200/50000 (38%)]\tLoss: 0.001392\n",
            "Train Epoch: 31 [25600/50000 (51%)]\tLoss: 0.000697\n",
            "Train Epoch: 31 [32000/50000 (64%)]\tLoss: 0.000810\n",
            "Train Epoch: 31 [38400/50000 (77%)]\tLoss: 0.001130\n",
            "Train Epoch: 31 [44800/50000 (90%)]\tLoss: 0.001192\n",
            "Test set: Average loss: -23.0598, Accuracy: 9746/10000 (97%)\n",
            "Train Epoch: 32 [0/50000 (0%)]\tLoss: 0.000584\n",
            "Train Epoch: 32 [6400/50000 (13%)]\tLoss: 0.001949\n",
            "Train Epoch: 32 [12800/50000 (26%)]\tLoss: 0.001356\n",
            "Train Epoch: 32 [19200/50000 (38%)]\tLoss: 0.001345\n",
            "Train Epoch: 32 [25600/50000 (51%)]\tLoss: 0.001634\n",
            "Train Epoch: 32 [32000/50000 (64%)]\tLoss: 0.000996\n",
            "Train Epoch: 32 [38400/50000 (77%)]\tLoss: 0.000921\n",
            "Train Epoch: 32 [44800/50000 (90%)]\tLoss: 0.001181\n",
            "Test set: Average loss: -23.1974, Accuracy: 9745/10000 (97%)\n",
            "Train Epoch: 33 [0/50000 (0%)]\tLoss: 0.000877\n",
            "Train Epoch: 33 [6400/50000 (13%)]\tLoss: 0.000323\n",
            "Train Epoch: 33 [12800/50000 (26%)]\tLoss: 0.001752\n",
            "Train Epoch: 33 [19200/50000 (38%)]\tLoss: 0.000855\n",
            "Train Epoch: 33 [25600/50000 (51%)]\tLoss: 0.003577\n",
            "Train Epoch: 33 [32000/50000 (64%)]\tLoss: 0.001880\n",
            "Train Epoch: 33 [38400/50000 (77%)]\tLoss: 0.001230\n",
            "Train Epoch: 33 [44800/50000 (90%)]\tLoss: 0.000904\n",
            "Test set: Average loss: -23.3928, Accuracy: 9744/10000 (97%)\n",
            "Train Epoch: 34 [0/50000 (0%)]\tLoss: 0.000998\n",
            "Train Epoch: 34 [6400/50000 (13%)]\tLoss: 0.000287\n",
            "Train Epoch: 34 [12800/50000 (26%)]\tLoss: 0.000724\n",
            "Train Epoch: 34 [19200/50000 (38%)]\tLoss: 0.000804\n",
            "Train Epoch: 34 [25600/50000 (51%)]\tLoss: 0.000546\n",
            "Train Epoch: 34 [32000/50000 (64%)]\tLoss: 0.001959\n",
            "Train Epoch: 34 [38400/50000 (77%)]\tLoss: 0.001655\n",
            "Train Epoch: 34 [44800/50000 (90%)]\tLoss: 0.001166\n",
            "Test set: Average loss: -23.5747, Accuracy: 9749/10000 (97%)\n",
            "Train Epoch: 35 [0/50000 (0%)]\tLoss: 0.000452\n",
            "Train Epoch: 35 [6400/50000 (13%)]\tLoss: 0.000877\n",
            "Train Epoch: 35 [12800/50000 (26%)]\tLoss: 0.000611\n",
            "Train Epoch: 35 [19200/50000 (38%)]\tLoss: 0.002376\n",
            "Train Epoch: 35 [25600/50000 (51%)]\tLoss: 0.001071\n",
            "Train Epoch: 35 [32000/50000 (64%)]\tLoss: 0.001134\n",
            "Train Epoch: 35 [38400/50000 (77%)]\tLoss: 0.000300\n",
            "Train Epoch: 35 [44800/50000 (90%)]\tLoss: 0.000785\n",
            "Test set: Average loss: -23.6990, Accuracy: 9748/10000 (97%)\n",
            "Train Epoch: 36 [0/50000 (0%)]\tLoss: 0.000675\n",
            "Train Epoch: 36 [6400/50000 (13%)]\tLoss: 0.000537\n",
            "Train Epoch: 36 [12800/50000 (26%)]\tLoss: 0.002332\n",
            "Train Epoch: 36 [19200/50000 (38%)]\tLoss: 0.001141\n",
            "Train Epoch: 36 [25600/50000 (51%)]\tLoss: 0.000329\n",
            "Train Epoch: 36 [32000/50000 (64%)]\tLoss: 0.001257\n",
            "Train Epoch: 36 [38400/50000 (77%)]\tLoss: 0.000544\n",
            "Train Epoch: 36 [44800/50000 (90%)]\tLoss: 0.003887\n",
            "Test set: Average loss: -23.8330, Accuracy: 9745/10000 (97%)\n",
            "Train Epoch: 37 [0/50000 (0%)]\tLoss: 0.000450\n",
            "Train Epoch: 37 [6400/50000 (13%)]\tLoss: 0.001142\n",
            "Train Epoch: 37 [12800/50000 (26%)]\tLoss: 0.001475\n",
            "Train Epoch: 37 [19200/50000 (38%)]\tLoss: 0.001055\n",
            "Train Epoch: 37 [25600/50000 (51%)]\tLoss: 0.005562\n",
            "Train Epoch: 37 [32000/50000 (64%)]\tLoss: 0.000115\n",
            "Train Epoch: 37 [38400/50000 (77%)]\tLoss: 0.002169\n",
            "Train Epoch: 37 [44800/50000 (90%)]\tLoss: 0.003048\n",
            "Test set: Average loss: -24.0155, Accuracy: 9747/10000 (97%)\n",
            "Train Epoch: 38 [0/50000 (0%)]\tLoss: 0.000565\n",
            "Train Epoch: 38 [6400/50000 (13%)]\tLoss: 0.002263\n",
            "Train Epoch: 38 [12800/50000 (26%)]\tLoss: 0.000684\n",
            "Train Epoch: 38 [19200/50000 (38%)]\tLoss: 0.000878\n",
            "Train Epoch: 38 [25600/50000 (51%)]\tLoss: 0.000233\n",
            "Train Epoch: 38 [32000/50000 (64%)]\tLoss: 0.003283\n",
            "Train Epoch: 38 [38400/50000 (77%)]\tLoss: 0.000936\n",
            "Train Epoch: 38 [44800/50000 (90%)]\tLoss: 0.002373\n",
            "Test set: Average loss: -24.1091, Accuracy: 9747/10000 (97%)\n",
            "Train Epoch: 39 [0/50000 (0%)]\tLoss: 0.000607\n",
            "Train Epoch: 39 [6400/50000 (13%)]\tLoss: 0.000914\n",
            "Train Epoch: 39 [12800/50000 (26%)]\tLoss: 0.001086\n",
            "Train Epoch: 39 [19200/50000 (38%)]\tLoss: 0.000989\n",
            "Train Epoch: 39 [25600/50000 (51%)]\tLoss: 0.001207\n",
            "Train Epoch: 39 [32000/50000 (64%)]\tLoss: 0.001257\n",
            "Train Epoch: 39 [38400/50000 (77%)]\tLoss: 0.001325\n",
            "Train Epoch: 39 [44800/50000 (90%)]\tLoss: 0.000280\n",
            "Test set: Average loss: -24.2829, Accuracy: 9751/10000 (98%)\n",
            "Train Epoch: 40 [0/50000 (0%)]\tLoss: 0.000086\n",
            "Train Epoch: 40 [6400/50000 (13%)]\tLoss: 0.001556\n",
            "Train Epoch: 40 [12800/50000 (26%)]\tLoss: 0.000663\n",
            "Train Epoch: 40 [19200/50000 (38%)]\tLoss: 0.000837\n",
            "Train Epoch: 40 [25600/50000 (51%)]\tLoss: 0.000306\n",
            "Train Epoch: 40 [32000/50000 (64%)]\tLoss: 0.000307\n",
            "Train Epoch: 40 [38400/50000 (77%)]\tLoss: 0.000223\n",
            "Train Epoch: 40 [44800/50000 (90%)]\tLoss: 0.000706\n",
            "Test set: Average loss: -24.3810, Accuracy: 9748/10000 (97%)\n",
            "Train Epoch: 41 [0/50000 (0%)]\tLoss: 0.001030\n",
            "Train Epoch: 41 [6400/50000 (13%)]\tLoss: 0.000675\n",
            "Train Epoch: 41 [12800/50000 (26%)]\tLoss: 0.000814\n",
            "Train Epoch: 41 [19200/50000 (38%)]\tLoss: 0.000930\n",
            "Train Epoch: 41 [25600/50000 (51%)]\tLoss: 0.000306\n",
            "Train Epoch: 41 [32000/50000 (64%)]\tLoss: 0.001108\n",
            "Train Epoch: 41 [38400/50000 (77%)]\tLoss: 0.001074\n",
            "Train Epoch: 41 [44800/50000 (90%)]\tLoss: 0.001018\n",
            "Test set: Average loss: -24.5241, Accuracy: 9750/10000 (98%)\n",
            "Train Epoch: 42 [0/50000 (0%)]\tLoss: 0.000499\n",
            "Train Epoch: 42 [6400/50000 (13%)]\tLoss: 0.001876\n",
            "Train Epoch: 42 [12800/50000 (26%)]\tLoss: 0.000531\n",
            "Train Epoch: 42 [19200/50000 (38%)]\tLoss: 0.002516\n",
            "Train Epoch: 42 [25600/50000 (51%)]\tLoss: 0.000735\n",
            "Train Epoch: 42 [32000/50000 (64%)]\tLoss: 0.001461\n",
            "Train Epoch: 42 [38400/50000 (77%)]\tLoss: 0.000583\n",
            "Train Epoch: 42 [44800/50000 (90%)]\tLoss: 0.004400\n",
            "Test set: Average loss: -24.6614, Accuracy: 9749/10000 (97%)\n",
            "Train Epoch: 43 [0/50000 (0%)]\tLoss: 0.002459\n",
            "Train Epoch: 43 [6400/50000 (13%)]\tLoss: 0.000665\n",
            "Train Epoch: 43 [12800/50000 (26%)]\tLoss: 0.000916\n",
            "Train Epoch: 43 [19200/50000 (38%)]\tLoss: 0.000874\n",
            "Train Epoch: 43 [25600/50000 (51%)]\tLoss: 0.000768\n",
            "Train Epoch: 43 [32000/50000 (64%)]\tLoss: 0.000999\n",
            "Train Epoch: 43 [38400/50000 (77%)]\tLoss: 0.001950\n",
            "Train Epoch: 43 [44800/50000 (90%)]\tLoss: 0.001097\n",
            "Test set: Average loss: -24.8056, Accuracy: 9750/10000 (98%)\n",
            "Train Epoch: 44 [0/50000 (0%)]\tLoss: 0.000357\n",
            "Train Epoch: 44 [6400/50000 (13%)]\tLoss: 0.000827\n",
            "Train Epoch: 44 [12800/50000 (26%)]\tLoss: 0.001193\n",
            "Train Epoch: 44 [19200/50000 (38%)]\tLoss: 0.000187\n",
            "Train Epoch: 44 [25600/50000 (51%)]\tLoss: 0.000561\n",
            "Train Epoch: 44 [32000/50000 (64%)]\tLoss: 0.000718\n",
            "Train Epoch: 44 [38400/50000 (77%)]\tLoss: 0.000143\n",
            "Train Epoch: 44 [44800/50000 (90%)]\tLoss: 0.002416\n",
            "Test set: Average loss: -24.9186, Accuracy: 9750/10000 (98%)\n",
            "Train Epoch: 45 [0/50000 (0%)]\tLoss: 0.000205\n",
            "Train Epoch: 45 [6400/50000 (13%)]\tLoss: 0.000508\n",
            "Train Epoch: 45 [12800/50000 (26%)]\tLoss: 0.000565\n",
            "Train Epoch: 45 [19200/50000 (38%)]\tLoss: 0.000929\n",
            "Train Epoch: 45 [25600/50000 (51%)]\tLoss: 0.000878\n",
            "Train Epoch: 45 [32000/50000 (64%)]\tLoss: 0.000968\n",
            "Train Epoch: 45 [38400/50000 (77%)]\tLoss: 0.001227\n",
            "Train Epoch: 45 [44800/50000 (90%)]\tLoss: 0.000651\n",
            "Test set: Average loss: -25.0205, Accuracy: 9747/10000 (97%)\n",
            "Train Epoch: 46 [0/50000 (0%)]\tLoss: 0.000495\n",
            "Train Epoch: 46 [6400/50000 (13%)]\tLoss: 0.000736\n",
            "Train Epoch: 46 [12800/50000 (26%)]\tLoss: 0.001193\n",
            "Train Epoch: 46 [19200/50000 (38%)]\tLoss: 0.000338\n",
            "Train Epoch: 46 [25600/50000 (51%)]\tLoss: 0.000810\n",
            "Train Epoch: 46 [32000/50000 (64%)]\tLoss: 0.001824\n",
            "Train Epoch: 46 [38400/50000 (77%)]\tLoss: 0.000770\n",
            "Train Epoch: 46 [44800/50000 (90%)]\tLoss: 0.000910\n",
            "Test set: Average loss: -25.1271, Accuracy: 9748/10000 (97%)\n",
            "Train Epoch: 47 [0/50000 (0%)]\tLoss: 0.000607\n",
            "Train Epoch: 47 [6400/50000 (13%)]\tLoss: 0.001483\n",
            "Train Epoch: 47 [12800/50000 (26%)]\tLoss: 0.000959\n",
            "Train Epoch: 47 [19200/50000 (38%)]\tLoss: 0.000414\n",
            "Train Epoch: 47 [25600/50000 (51%)]\tLoss: 0.001025\n",
            "Train Epoch: 47 [32000/50000 (64%)]\tLoss: 0.000711\n",
            "Train Epoch: 47 [38400/50000 (77%)]\tLoss: 0.000777\n",
            "Train Epoch: 47 [44800/50000 (90%)]\tLoss: 0.000321\n",
            "Test set: Average loss: -25.2400, Accuracy: 9751/10000 (98%)\n",
            "Train Epoch: 48 [0/50000 (0%)]\tLoss: 0.001368\n",
            "Train Epoch: 48 [6400/50000 (13%)]\tLoss: 0.001038\n",
            "Train Epoch: 48 [12800/50000 (26%)]\tLoss: 0.000158\n",
            "Train Epoch: 48 [19200/50000 (38%)]\tLoss: 0.000958\n",
            "Train Epoch: 48 [25600/50000 (51%)]\tLoss: 0.000268\n",
            "Train Epoch: 48 [32000/50000 (64%)]\tLoss: 0.000904\n",
            "Train Epoch: 48 [38400/50000 (77%)]\tLoss: 0.000791\n",
            "Train Epoch: 48 [44800/50000 (90%)]\tLoss: 0.000502\n",
            "Test set: Average loss: -25.3467, Accuracy: 9748/10000 (97%)\n",
            "Train Epoch: 49 [0/50000 (0%)]\tLoss: 0.000731\n",
            "Train Epoch: 49 [6400/50000 (13%)]\tLoss: 0.000627\n",
            "Train Epoch: 49 [12800/50000 (26%)]\tLoss: 0.000384\n",
            "Train Epoch: 49 [19200/50000 (38%)]\tLoss: 0.000741\n",
            "Train Epoch: 49 [25600/50000 (51%)]\tLoss: 0.000692\n",
            "Train Epoch: 49 [32000/50000 (64%)]\tLoss: 0.001257\n",
            "Train Epoch: 49 [38400/50000 (77%)]\tLoss: 0.000699\n",
            "Train Epoch: 49 [44800/50000 (90%)]\tLoss: 0.000417\n",
            "Test set: Average loss: -25.4536, Accuracy: 9744/10000 (97%)\n",
            "Train Epoch: 50 [0/50000 (0%)]\tLoss: 0.000646\n",
            "Train Epoch: 50 [6400/50000 (13%)]\tLoss: 0.000475\n",
            "Train Epoch: 50 [12800/50000 (26%)]\tLoss: 0.000755\n",
            "Train Epoch: 50 [19200/50000 (38%)]\tLoss: 0.000356\n",
            "Train Epoch: 50 [25600/50000 (51%)]\tLoss: 0.000161\n",
            "Train Epoch: 50 [32000/50000 (64%)]\tLoss: 0.001501\n",
            "Train Epoch: 50 [38400/50000 (77%)]\tLoss: 0.000391\n",
            "Train Epoch: 50 [44800/50000 (90%)]\tLoss: 0.000802\n",
            "Test set: Average loss: -25.5673, Accuracy: 9748/10000 (97%)\n"
          ]
        }
      ]
    },
    {
      "cell_type": "code",
      "source": [
        "test(cnn_model, device, test_loader)"
      ],
      "metadata": {
        "colab": {
          "base_uri": "https://localhost:8080/"
        },
        "id": "qwGOCnrE4J6L",
        "outputId": "7be73b1f-8d6c-4d27-a283-44c7375f2f7d"
      },
      "execution_count": 24,
      "outputs": [
        {
          "output_type": "stream",
          "name": "stdout",
          "text": [
            "Test set: Average loss: -26.0128, Accuracy: 9770/10000 (98%)\n"
          ]
        },
        {
          "output_type": "execute_result",
          "data": {
            "text/plain": [
              "(-26.012800558471678, 97.7)"
            ]
          },
          "metadata": {},
          "execution_count": 24
        }
      ]
    },
    {
      "cell_type": "markdown",
      "metadata": {
        "id": "JcT1wr__3pOW"
      },
      "source": [
        "## Saving your model\n",
        "Using `torch.save`, save your model for future loading."
      ]
    },
    {
      "cell_type": "code",
      "source": [
        "# Specify the path to save the model\n",
        "model_path = './saved_models.pth'\n",
        "\n",
        "# Save the model\n",
        "torch.save(cnn_model.state_dict(), model_path)"
      ],
      "metadata": {
        "id": "zQl1A8K0-znM"
      },
      "execution_count": 30,
      "outputs": []
    },
    {
      "cell_type": "code",
      "execution_count": 31,
      "metadata": {
        "id": "yY9QNAuY3pOX"
      },
      "outputs": [],
      "source": [
        "# new_model = torch.load('./saved_models')"
      ]
    },
    {
      "cell_type": "code",
      "execution_count": null,
      "metadata": {
        "id": "S_241k3L3pOX"
      },
      "outputs": [],
      "source": []
    }
  ],
  "metadata": {
    "kernelspec": {
      "display_name": "Python 3 (ipykernel)",
      "language": "python",
      "name": "python3"
    },
    "language_info": {
      "codemirror_mode": {
        "name": "ipython",
        "version": 3
      },
      "file_extension": ".py",
      "mimetype": "text/x-python",
      "name": "python",
      "nbconvert_exporter": "python",
      "pygments_lexer": "ipython3",
      "version": "3.9.13"
    },
    "colab": {
      "provenance": []
    }
  },
  "nbformat": 4,
  "nbformat_minor": 0
}