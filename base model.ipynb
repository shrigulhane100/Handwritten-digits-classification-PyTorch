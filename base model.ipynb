{
  "cells": [
    {
      "cell_type": "markdown",
      "metadata": {
        "id": "rGl1V8npIVKV"
      },
      "source": [
        "# Introduction\n",
        "\n",
        "In this project, you will build a neural network of your own design to evaluate the MNIST dataset.\n",
        "\n",
        "Some of the benchmark results on MNIST include can be found [on Yann LeCun's page](http://yann.lecun.com/exdb/mnist/) and include:\n",
        "\n",
        "88% [Lecun et al., 1998](http://yann.lecun.com/exdb/publis/pdf/lecun-98.pdf)\n",
        "95.3% [Lecun et al., 1998](http://yann.lecun.com/exdb/publis/pdf/lecun-98.pdf)\n",
        "99.65% [Ciresan et al., 2011](http://people.idsia.ch/~juergen/ijcai2011.pdf)\n",
        "\n",
        "MNIST is a great dataset for sanity checking your models, since the accuracy levels achieved by large convolutional neural networks and small linear models are both quite high. This makes it important to be familiar with the data.\n",
        "\n",
        "## Imports"
      ]
    },
    {
      "cell_type": "code",
      "execution_count": null,
      "metadata": {
        "id": "m7y7WEDZIVKX"
      },
      "outputs": [],
      "source": [
        "## This cell contains the essential imports you will need – DO NOT CHANGE THE CONTENTS! ##\n",
        "import torch\n",
        "import torch.nn as nn\n",
        "import torch.nn.functional as F\n",
        "import torch.optim as optim\n",
        "import torchvision\n",
        "import torchvision.transforms as transforms\n",
        "import matplotlib.pyplot as plt\n",
        "import numpy as np"
      ]
    },
    {
      "cell_type": "markdown",
      "metadata": {
        "id": "WwqT9stAIVKX"
      },
      "source": [
        "## Load the Dataset\n",
        "\n",
        "Specify your transforms as a list if you intend to .\n",
        "The transforms module is already loaded as `transforms`.\n",
        "\n",
        "MNIST is fortunately included in the torchvision module.\n",
        "Then, you can create your dataset using the `MNIST` object from `torchvision.datasets` ([the documentation is available here](https://pytorch.org/vision/stable/datasets.html#mnist)).\n",
        "Make sure to specify `download=True`!\n",
        "\n",
        "Once your dataset is created, you'll also need to define a `DataLoader` from the `torch.utils.data` module for both the train and the test set."
      ]
    },
    {
      "cell_type": "code",
      "execution_count": null,
      "metadata": {
        "id": "479DnWudIVKg"
      },
      "outputs": [],
      "source": [
        "# Define transforms\n",
        "transform = transforms.Compose([transforms.ToTensor(), transforms.Normalize((0.5), (0.5))])\n",
        "\n",
        "# Create training set and define training dataloader\n",
        "import torchvision.datasets as datasets\n",
        "from torch.utils.data import DataLoader\n",
        "\n",
        "train_dataset = datasets.MNIST(root='./data', train=True, download=True, transform=transform)\n",
        "train_loader = DataLoader(train_dataset, batch_size=32, shuffle=True)\n",
        "\n",
        "# Create test set and define test dataloader\n",
        "test_dataset = datasets.MNIST(root='./data', train=False, download=True, transform=transform)\n",
        "test_loader = DataLoader(test_dataset, batch_size=32, shuffle=True)\n"
      ]
    },
    {
      "cell_type": "markdown",
      "metadata": {
        "id": "0ggr4SAEIVKh"
      },
      "source": [
        "## Justify your preprocessing\n",
        "\n",
        "In your own words, why did you choose the transforms you chose? If you didn't use any preprocessing steps, why not?"
      ]
    },
    {
      "cell_type": "markdown",
      "metadata": {
        "id": "tCSzWy1jIVKi"
      },
      "source": [
        "The transforms chosen for the MNIST dataset are ToTensor() and Normalize(). The ToTensor() transform converts the PIL image or NumPy array to a PyTorch tensor with values ranging from 0 to 1. The Normalize() transform normalizes the tensor image with mean and standard deviation. In this case, the mean and standard deviation values of 0.1307 and 0.3081 are used, which are the global mean and standard deviation of the MNIST dataset.\n",
        "\n",
        "These transforms are important preprocessing steps because they help to standardize the input data, making it easier for the neural network to learn from the data. Normalizing the data can also help to improve the training speed and performance of the neural network."
      ]
    },
    {
      "cell_type": "code",
      "execution_count": null,
      "metadata": {
        "id": "ylJ7epvHIVKi"
      },
      "outputs": [],
      "source": []
    },
    {
      "cell_type": "markdown",
      "metadata": {
        "id": "Qnbn4kqpIVKj"
      },
      "source": [
        "## Explore the Dataset\n",
        "Using matplotlib, numpy, and torch, explore the dimensions of your data.\n",
        "\n",
        "You can view images using the `show5` function defined below – it takes a data loader as an argument.\n",
        "Remember that normalized images will look really weird to you! You may want to try changing your transforms to view images.\n",
        "Typically using no transforms other than `toTensor()` works well for viewing – but not as well for training your network.\n",
        "If `show5` doesn't work, go back and check your code for creating your data loaders and your training/test sets."
      ]
    },
    {
      "cell_type": "code",
      "execution_count": null,
      "metadata": {
        "id": "383j3vITIVKk"
      },
      "outputs": [],
      "source": [
        "## This cell contains a function for showing 5 images from a dataloader – DO NOT CHANGE THE CONTENTS! ##\n",
        "def show5(img_loader):\n",
        "    dataiter = iter(img_loader)\n",
        "\n",
        "    batch = next(dataiter)\n",
        "    labels = batch[1][0:5]\n",
        "    images = batch[0][0:5]\n",
        "    for i in range(5):\n",
        "        print(int(labels[i].detach()))\n",
        "\n",
        "        image = images[i].numpy()\n",
        "        plt.imshow(image.T.squeeze().T)\n",
        "        plt.show()"
      ]
    },
    {
      "cell_type": "code",
      "execution_count": null,
      "metadata": {
        "id": "UpUje9PIIVKl",
        "outputId": "c025621d-a250-426b-be39-f9626ef77ff5",
        "colab": {
          "base_uri": "https://localhost:8080/",
          "height": 1000
        }
      },
      "outputs": [
        {
          "output_type": "stream",
          "name": "stdout",
          "text": [
            "6\n"
          ]
        },
        {
          "output_type": "display_data",
          "data": {
            "text/plain": [
              "<Figure size 640x480 with 1 Axes>"
            ],
            "image/png": "[encoded data removed]"
          },
          "metadata": {}
        },
        {
          "output_type": "stream",
          "name": "stdout",
          "text": [
            "9\n"
          ]
        },
        {
          "output_type": "display_data",
          "data": {
            "text/plain": [
              "<Figure size 640x480 with 1 Axes>"
            ],
            "image/png": "[encoded data removed]"
          },
          "metadata": {}
        },
        {
          "output_type": "stream",
          "name": "stdout",
          "text": [
            "6\n"
          ]
        },
        {
          "output_type": "display_data",
          "data": {
            "text/plain": [
              "<Figure size 640x480 with 1 Axes>"
            ],
            "image/png": "[encoded data removed]"
          },
          "metadata": {}
        },
        {
          "output_type": "stream",
          "name": "stdout",
          "text": [
            "1\n"
          ]
        },
        {
          "output_type": "display_data",
          "data": {
            "text/plain": [
              "<Figure size 640x480 with 1 Axes>"
            ],
            "image/png": "[encoded data removed]"
          },
          "metadata": {}
        },
        {
          "output_type": "stream",
          "name": "stdout",
          "text": [
            "7\n"
          ]
        },
        {
          "output_type": "display_data",
          "data": {
            "text/plain": [
              "<Figure size 640x480 with 1 Axes>"
            ],
            "image/png": "[encoded data removed]"
          },
          "metadata": {}
        }
      ],
      "source": [
        "# Explore data\n",
        "show5(train_loader)"
      ]
    },
    {
      "cell_type": "markdown",
      "metadata": {
        "id": "qdTnUvaRIVKn"
      },
      "source": [
        "## Build your Neural Network\n",
        "Using the layers in `torch.nn` (which has been imported as `nn`) and the `torch.nn.functional` module (imported as `F`), construct a neural network based on the parameters of the dataset.\n",
        "Use any architecture you like.\n",
        "\n",
        "*Note*: If you did not flatten your tensors in your transforms or as part of your preprocessing and you are using only `Linear` layers, make sure to use the `Flatten` layer in your network!"
      ]
    },
    {
      "cell_type": "code",
      "source": [
        "device = torch.device(\"cuda:0\" if torch.cuda.is_available() else \"cpu\")"
      ],
      "metadata": {
        "id": "07OJHPSjwmuS"
      },
      "execution_count": null,
      "outputs": []
    },
    {
      "cell_type": "code",
      "execution_count": null,
      "metadata": {
        "id": "MqRYk5rLIVKn",
        "colab": {
          "base_uri": "https://localhost:8080/"
        },
        "outputId": "15bf142a-7f35-42f3-f360-e7002dcf806b"
      },
      "outputs": [
        {
          "output_type": "execute_result",
          "data": {
            "text/plain": [
              "Net(\n",
              "  (fc1): Linear(in_features=784, out_features=512, bias=True)\n",
              "  (fc2): Linear(in_features=512, out_features=120, bias=True)\n",
              "  (fc3): Linear(in_features=120, out_features=84, bias=True)\n",
              "  (fc4): Linear(in_features=84, out_features=10, bias=True)\n",
              ")"
            ]
          },
          "metadata": {},
          "execution_count": 60
        }
      ],
      "source": [
        "# Define the class for your neural network\n",
        "class Net(nn.Module):\n",
        "    def __init__(self):\n",
        "        super().__init__()\n",
        "        self.activation = F.relu\n",
        "        self.fc1 = nn.Linear(28*28, 512)\n",
        "        self.fc2 = nn.Linear(512, 120)\n",
        "        self.fc3 = nn.Linear(120, 84)\n",
        "        self.fc4 = nn.Linear(84, 10)\n",
        "\n",
        "    def forward(self, x):\n",
        "        x = torch.flatten(x, 1) # flatten all dimensions except batch\n",
        "        x = self.activation(self.fc1(x))\n",
        "        x = self.activation(self.fc2(x))\n",
        "        x = self.activation(self.fc3(x))\n",
        "        x = self.fc4(x)\n",
        "        return x\n",
        "\n",
        "# Instantiate the model\n",
        "net = Net()\n",
        "net.to(device)"
      ]
    },
    {
      "cell_type": "markdown",
      "metadata": {
        "id": "UHCAhU7JIVKn"
      },
      "source": [
        "Specify a loss function and an optimizer, and instantiate the model.\n",
        "\n",
        "If you use a less common loss function, please note why you chose that loss function in a comment."
      ]
    },
    {
      "cell_type": "markdown",
      "source": [
        "    The transforms chosen for the MNIST dataset are ToTensor() and Normalize(). The ToTensor() transform converts the PIL image or NumPy array to a PyTorch tensor with values ranging from 0 to 1. The Normalize() transform normalizes the tensor image with mean and standard deviation. In this case, the mean and standard deviation values of 0.1307 and 0.3081 are used, which are the global mean and standard deviation of the MNIST dataset.\n",
        "\n",
        "    These transforms are important preprocessing steps because they help to standardize the input data, making it easier for the neural network to learn from the data. Normalizing the data can also help to improve the training speed and performance of the neural network."
      ],
      "metadata": {
        "id": "AAUMamU920_0"
      }
    },
    {
      "cell_type": "markdown",
      "metadata": {
        "id": "0ZPZcVd0IVKp"
      },
      "source": [
        "## Running your Neural Network\n",
        "Use whatever method you like to train your neural network, and ensure you record the average loss at each epoch.\n",
        "Don't forget to use `torch.device()` and the `.to()` method for both your model and your data if you are using GPU!\n",
        "\n",
        "If you want to print your loss **during** each epoch, you can use the `enumerate` function and print the loss after a set number of batches. 250 batches works well for most people!"
      ]
    },
    {
      "cell_type": "code",
      "source": [
        "train_loss_history = list()\n",
        "val_loss_history = list()"
      ],
      "metadata": {
        "id": "gCQIkhLJulDE"
      },
      "execution_count": null,
      "outputs": []
    },
    {
      "cell_type": "code",
      "execution_count": null,
      "metadata": {
        "id": "Sh47FZFpIVKq"
      },
      "outputs": [],
      "source": [
        "def train_model (net, num_epochs=8, learning_rate=0.005):\n",
        "    # We can define our optimizer and loss here, or outside of the training loop and pass them in as parameters.\n",
        "    optimizer = optim.SGD(net.parameters(), lr=learning_rate, momentum=0.9)\n",
        "    criterion = nn.CrossEntropyLoss()\n",
        "    correct = 0\n",
        "    total = 0\n",
        "\n",
        "    # Iterate over the number of ebochs specified\n",
        "    for epoch in range(num_epochs):\n",
        "        # Put the model into training mode\n",
        "        net.train()\n",
        "        # Set the epoch loss to zero\n",
        "        train_loss = 0.0\n",
        "        # Set the number of correct predictions to zero.\n",
        "        train_correct = 0\n",
        "        # Loop over the data in the training data loader. The 'data variable contains one batch\n",
        "        # We use enumerate so that if we have too much data, we can print a status during the epoch.\n",
        "        for i, data in enumerate(train_loader):\n",
        "            # Get inputs and labels from our batch\n",
        "            inputs, labels = data\n",
        "            # Pass inputs and labels to GPU if available\n",
        "            if torch.cuda.is_available():\n",
        "                inputs, labels = inputs.cuda(), labels.cuda()\n",
        "\n",
        "            # Zero out the gradient of the optimizer\n",
        "            optimizer.zero_grad()\n",
        "            # Get the output logits from the model\n",
        "            outputs = net(inputs)\n",
        "            # Compute the cross entropy loss between the outputs and the labels\n",
        "            loss = criterion(outputs, labels)\n",
        "            # Compute the gradient of the loss with respect to the parameters\n",
        "            loss.backward()\n",
        "            # Update the parameters by taking a step with the optimizer\n",
        "            optimizer.step()\n",
        "\n",
        "            # Get class predictions from the outputs\n",
        "            _, preds = torch.max(outputs.data, 1)\n",
        "            # Update the number of correct predictions for the epoch\n",
        "            train_correct += (preds == labels).sum().item()\n",
        "            # Update the running loss\n",
        "            train_loss += loss.item()\n",
        "\n",
        "        # Print the running accuracy and loss in the notebook\n",
        "        print(f'Epoch {epoch + 1} training accuracy: {train_correct/len(train_loader):.2f}% training loss: {train_loss/len(train_loader):.5f}')\n",
        "        train_loss_history.append(train_loss/len(train_loader))\n",
        "\n",
        "        # Perform validation (This is actually the test set, so this is a bad practice!)\n",
        "        val_loss = 0.0\n",
        "        val_correct = 0\n",
        "        net.eval()\n",
        "        for inputs, labels in test_loader:\n",
        "            if torch.cuda.is_available():\n",
        "                inputs, labels = inputs.cuda(), labels.cuda()\n",
        "\n",
        "            outputs = net(inputs)\n",
        "            loss = criterion(outputs, labels)\n",
        "\n",
        "            _, preds = torch.max(outputs.data, 1)\n",
        "            val_correct += (preds == labels).sum().item()\n",
        "            val_loss += loss.item()\n",
        "\n",
        "        # Print validation to the notebook\n",
        "        print(f'Epoch {epoch + 1} validation accuracy: {val_correct/len(test_loader):.2f}% validation loss: {val_loss/len(test_loader):.5f}')\n",
        "        # # Calculate the accuracy\n",
        "        val_loss_history.append(val_loss/len(test_loader))\n",
        "\n",
        "    def val_accuracy():\n",
        "        total += labels.size(0)\n",
        "        accuracy = 100 * val_correct / total\n",
        "        return f'Validation Accuracy: {accuracy}%'\n"
      ]
    },
    {
      "cell_type": "code",
      "source": [
        "train_model(net)"
      ],
      "metadata": {
        "colab": {
          "base_uri": "https://localhost:8080/"
        },
        "id": "KLTnJtLw3LjU",
        "outputId": "7c7476ab-1cb2-451a-8a67-eca32d93bbf3"
      },
      "execution_count": null,
      "outputs": [
        {
          "output_type": "stream",
          "name": "stdout",
          "text": [
            "Epoch 1 training accuracy: 27.42% training loss: 0.45012\n",
            "Epoch 1 validation accuracy: 30.31% validation loss: 0.17125\n",
            "Epoch 2 training accuracy: 30.44% training loss: 0.15786\n",
            "Epoch 2 validation accuracy: 30.55% validation loss: 0.13657\n",
            "Epoch 3 training accuracy: 30.88% training loss: 0.11142\n",
            "Epoch 3 validation accuracy: 30.94% validation loss: 0.10331\n",
            "Epoch 4 training accuracy: 31.08% training loss: 0.09109\n",
            "Epoch 4 validation accuracy: 31.13% validation loss: 0.07986\n",
            "Epoch 5 training accuracy: 31.24% training loss: 0.07472\n",
            "Epoch 5 validation accuracy: 30.59% validation loss: 0.13900\n",
            "Epoch 6 training accuracy: 31.38% training loss: 0.06114\n",
            "Epoch 6 validation accuracy: 31.06% validation loss: 0.09079\n",
            "Epoch 7 training accuracy: 31.46% training loss: 0.05345\n",
            "Epoch 7 validation accuracy: 31.23% validation loss: 0.07301\n",
            "Epoch 8 training accuracy: 31.54% training loss: 0.04452\n",
            "Epoch 8 validation accuracy: 31.23% validation loss: 0.07224\n"
          ]
        }
      ]
    },
    {
      "cell_type": "markdown",
      "metadata": {
        "id": "sDsQE1rqIVKr"
      },
      "source": [
        "Plot the training loss (and validation loss/accuracy, if recorded)."
      ]
    },
    {
      "cell_type": "code",
      "execution_count": null,
      "metadata": {
        "id": "GBd0xoewIVKr",
        "outputId": "7b8959eb-9c40-47a4-8c89-ba489e9e1420",
        "colab": {
          "base_uri": "https://localhost:8080/",
          "height": 472
        }
      },
      "outputs": [
        {
          "output_type": "display_data",
          "data": {
            "text/plain": [
              "<Figure size 640x480 with 1 Axes>"
            ],
            "image/png": "[encoded data removed]"
          },
          "metadata": {}
        }
      ],
      "source": [
        "# Plot the training and validation loss history\n",
        "plt.plot(train_loss_history, label=\"Training Loss\")\n",
        "\n",
        "plt.title('Training Loss')\n",
        "plt.xlabel('Epoch')\n",
        "plt.ylabel('Loss')\n",
        "plt.show()"
      ]
    },
    {
      "cell_type": "markdown",
      "metadata": {
        "id": "Y6NS55hvIVKs"
      },
      "source": [
        "## Testing your model\n",
        "Using the previously created `DataLoader` for the test set, compute the percentage of correct predictions using the highest probability prediction.\n",
        "\n",
        "If your accuracy is over 90%, great work, but see if you can push a bit further!\n",
        "If your accuracy is under 90%, you'll need to make improvements.\n",
        "Go back and check your model architecture, loss function, and optimizer to make sure they're appropriate for an image classification task."
      ]
    },
    {
      "cell_type": "code",
      "execution_count": null,
      "metadata": {
        "pycharm": {
          "is_executing": true
        },
        "id": "f5BhEWImIVKs"
      },
      "outputs": [],
      "source": [
        "\n",
        "# print(train_model.val_accuracy())"
      ]
    },
    {
      "cell_type": "markdown",
      "metadata": {
        "id": "1eCqGD4QIVKs"
      },
      "source": [
        "## Improving your model\n",
        "\n",
        "Once your model is done training, try tweaking your hyperparameters and training again below to improve your accuracy on the test set!"
      ]
    },
    {
      "cell_type": "code",
      "execution_count": null,
      "metadata": {
        "id": "IGKt1mGNIVKs"
      },
      "outputs": [],
      "source": [
        "# Define the class for your neural network\n",
        "class Net(nn.Module):\n",
        "    def __init__(self):\n",
        "        super().__init__()\n",
        "        self.activation = F.relu\n",
        "        self.fc1 = nn.Linear(16* 7* 7, 120)\n",
        "        self.fc2 = nn.Linear(120, 84)\n",
        "        self.fc3 = nn.Linear(84, 10)\n",
        "        self.dropout = nn.Dropout(p=0.8)\n",
        "\n",
        "    def forward(self, x):\n",
        "        x = torch.flatten(x, 1) # flatten all dimensions except batch\n",
        "        x = self.activation(self.fc1(x))\n",
        "        x = self.dropout(x)\n",
        "        x = self.activation(self.fc2(x))\n",
        "        x = self.dropout(x)\n",
        "        x = self.fc3(x)\n",
        "        return x\n",
        "\n",
        "# Instantiate the model\n",
        "net = Net()\n"
      ]
    },
    {
      "cell_type": "code",
      "source": [
        "train_model(net)"
      ],
      "metadata": {
        "colab": {
          "base_uri": "https://localhost:8080/"
        },
        "id": "SxwzIUZCVfpP",
        "outputId": "061da44a-b215-45d2-bec1-14ac9b74e720"
      },
      "execution_count": null,
      "outputs": [
        {
          "output_type": "stream",
          "name": "stdout",
          "text": [
            "Epoch 1 training accuracy: 9.21% training loss: 1.90623\n",
            "Epoch 1 validation accuracy: 19.87% validation loss: 1.29424\n",
            "Epoch 2 training accuracy: 9.97% training loss: 1.81101\n",
            "Epoch 2 validation accuracy: 22.35% validation loss: 1.32585\n",
            "Epoch 3 training accuracy: 10.31% training loss: 1.78849\n",
            "Epoch 3 validation accuracy: 20.17% validation loss: 1.27762\n",
            "Epoch 4 training accuracy: 10.55% training loss: 1.76900\n",
            "Epoch 4 validation accuracy: 20.24% validation loss: 1.26128\n",
            "Epoch 5 training accuracy: 11.01% training loss: 1.74175\n",
            "Epoch 5 validation accuracy: 22.52% validation loss: 1.18272\n",
            "Epoch 6 training accuracy: 11.24% training loss: 1.72155\n",
            "Epoch 6 validation accuracy: 22.96% validation loss: 1.09411\n",
            "Epoch 7 training accuracy: 11.12% training loss: 1.72647\n",
            "Epoch 7 validation accuracy: 20.90% validation loss: 1.23408\n",
            "Epoch 8 training accuracy: 11.10% training loss: 1.72488\n",
            "Epoch 8 validation accuracy: 21.99% validation loss: 1.20423\n"
          ]
        }
      ]
    },
    {
      "cell_type": "code",
      "source": [
        "# print(train_model.val_accuracy())"
      ],
      "metadata": {
        "id": "GFOnLubK8CQe"
      },
      "execution_count": null,
      "outputs": []
    },
    {
      "cell_type": "markdown",
      "metadata": {
        "id": "sLS1Rl-6IVKt"
      },
      "source": [
        "## Saving your model\n",
        "Using `torch.save`, save your model for future loading."
      ]
    },
    {
      "cell_type": "code",
      "execution_count": null,
      "metadata": {
        "id": "fVUwfepYIVKt"
      },
      "outputs": [],
      "source": [
        "## YOUR CODE HERE ##\n",
        "# Specify the path to save the model\n",
        "model_path = './mnist_model.pth'\n",
        "\n",
        "# Save the model\n",
        "torch.save(model.state_dict(), model_path)\n"
      ]
    }
  ],
  "metadata": {
    "kernelspec": {
      "display_name": "Python 3 (ipykernel)",
      "language": "python",
      "name": "python3"
    },
    "language_info": {
      "codemirror_mode": {
        "name": "ipython",
        "version": 3
      },
      "file_extension": ".py",
      "mimetype": "text/x-python",
      "name": "python",
      "nbconvert_exporter": "python",
      "pygments_lexer": "ipython3",
      "version": "3.10.9"
    },
    "colab": {
      "provenance": []
    }
  },
  "nbformat": 4,
  "nbformat_minor": 0
}